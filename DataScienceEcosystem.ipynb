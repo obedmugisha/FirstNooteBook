{
 "cells": [
  {
   "cell_type": "markdown",
   "id": "f0ca5bee",
   "metadata": {},
   "source": [
    "### Data Science Tools and Ecosystem"
   ]
  },
  {
   "cell_type": "markdown",
   "id": "09f05092",
   "metadata": {},
   "source": [
    "In this notebook, Data Science Tools and Ecosystem are summarized"
   ]
  },
  {
   "cell_type": "markdown",
   "id": "3c074751",
   "metadata": {},
   "source": [
    "Some of the popular languages that Data Scientists use are:\n",
    "1.Python\n",
    "2.R\n",
    "3.SQL\n",
    "4.Julia\n",
    "5.Scala"
   ]
  },
  {
   "cell_type": "markdown",
   "id": "84296f61",
   "metadata": {},
   "source": [
    "Some of the commonly used libraries used by Data Scientists include:\n",
    "1.NumPy\n",
    "2.Pandas\n",
    "3.Scikit-learn\n",
    "4.TensorFlow\n",
    "5.PyTorch"
   ]
  },
  {
   "cell_type": "markdown",
   "id": "c3d293ba",
   "metadata": {},
   "source": [
    "|Data Science Tools|\n",
    "|-------------------------|\n",
    "|Jupyter Notebook|\n",
    "|RStudio |\n",
    "|VS Code with Python Extension|\n"
   ]
  },
  {
   "cell_type": "markdown",
   "id": "5552099d",
   "metadata": {},
   "source": [
    "### Below are a few examples of evaluating arithmetic expressions in Python\n",
    "\n",
    "\n"
   ]
  },
  {
   "cell_type": "code",
   "execution_count": 4,
   "id": "99f9e6fc",
   "metadata": {},
   "outputs": [
    {
     "name": "stdout",
     "output_type": "stream",
     "text": [
      " the addition of A and B is 8\n",
      " the addition of A and B is 2\n",
      " the addition of A and B is 15\n",
      " the addition of A and B is 1.6666666666666667\n"
     ]
    }
   ],
   "source": [
    "A = 5\n",
    "B = 3\n",
    "# addition operation\n",
    "Sum = A + B\n",
    "print(f\" the addition of A and B is {Sum}\")\n",
    "# Substraction\n",
    "Diff = A - B\n",
    "print(f\" the addition of A and B is {Diff}\")\n",
    "\n",
    "# Multiplication \n",
    "product = A * B\n",
    "print(f\" the addition of A and B is {product}\")\n",
    "\n",
    "# Division \n",
    "Quotient = A / B\n",
    "print(f\" the addition of A and B is {Quotient}\")\n"
   ]
  },
  {
   "cell_type": "code",
   "execution_count": 5,
   "id": "c161ec54",
   "metadata": {},
   "outputs": [
    {
     "data": {
      "text/plain": [
       "17"
      ]
     },
     "execution_count": 5,
     "metadata": {},
     "output_type": "execute_result"
    }
   ],
   "source": [
    "# This a simple arithmetic expression to mutiply then add integers\n",
    "(3*4)+5"
   ]
  },
  {
   "cell_type": "code",
   "execution_count": 6,
   "id": "593874d8",
   "metadata": {},
   "outputs": [
    {
     "name": "stdout",
     "output_type": "stream",
     "text": [
      "3.3333333333333335\n"
     ]
    }
   ],
   "source": [
    "#This will convert 200 minutes to hours by diving by 60\n",
    "hours = 200 / 60\n",
    "print(hours)"
   ]
  },
  {
   "cell_type": "markdown",
   "id": "a939b542",
   "metadata": {},
   "source": [
    "**Objectives:**\n",
    "\n",
    "- List popular languages for Data Science.\n",
    "- Identify commonly used libraries by Data Scientists.\n",
    "- Understand the process of creating a table in a Jupyter Notebook.\n",
    "- Perform arithmetic operations in Python.\n",
    "- Convert units of time in Python.\n"
   ]
  },
  {
   "cell_type": "markdown",
   "id": "54afb0b9",
   "metadata": {},
   "source": [
    "## Author\n",
    "MUGISHA OBED"
   ]
  },
  {
   "cell_type": "code",
   "execution_count": null,
   "id": "5caef88d",
   "metadata": {},
   "outputs": [],
   "source": []
  }
 ],
 "metadata": {
  "kernelspec": {
   "display_name": "Python 3 (ipykernel)",
   "language": "python",
   "name": "python3"
  },
  "language_info": {
   "codemirror_mode": {
    "name": "ipython",
    "version": 3
   },
   "file_extension": ".py",
   "mimetype": "text/x-python",
   "name": "python",
   "nbconvert_exporter": "python",
   "pygments_lexer": "ipython3",
   "version": "3.11.5"
  }
 },
 "nbformat": 4,
 "nbformat_minor": 5
}
